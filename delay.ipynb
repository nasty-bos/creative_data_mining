{
 "cells": [
  {
   "cell_type": "code",
   "execution_count": 1,
   "metadata": {},
   "outputs": [],
   "source": [
    "import io\n",
    "import shutil\n",
    "import requests\n",
    "import pandas as pd\n",
    "import numpy as np\n",
    "import csv\n",
    "import glob\n",
    "import os\n",
    "from sklearn import linear_model\n",
    "from datetime import datetime\n",
    "\n",
    "def mask(df, key, value):\n",
    "    return df[df[key] == value]"
   ]
  },
  {
   "cell_type": "markdown",
   "metadata": {},
   "source": [
    "## Import of Delay Data"
   ]
  },
  {
   "cell_type": "code",
   "execution_count": null,
   "metadata": {},
   "outputs": [],
   "source": [
    "listpaths = ['https://data.stadt-zuerich.ch/dataset/vbz_fahrzeiten_ogd/resource/03ec9d0a-b16f-4e78-8e4f-2da4970efbb6/download/fahrzeiten_soll_ist_20180325_20180331.csv', 'https://data.stadt-zuerich.ch/dataset/vbz_fahrzeiten_ogd/resource/c88a3801-c6fc-4d32-8ece-e269899be497/download/fahrzeiten_soll_ist_20180318_20180324.csv', 'https://data.stadt-zuerich.ch/dataset/vbz_fahrzeiten_ogd/resource/eb403fd1-8f8b-475e-98aa-f04ee3b255ba/download/fahrzeiten_soll_ist_20180311_20180317.csv', 'https://data.stadt-zuerich.ch/dataset/vbz_fahrzeiten_ogd/resource/1ac13127-fcde-4ac2-8462-50f348fd28fe/download/fahrzeiten_soll_ist_20180218_20180224.csv', 'https://data.stadt-zuerich.ch/dataset/vbz_fahrzeiten_ogd/resource/97e59d2a-83ec-438f-ae6f-0fe85d9bc1e6/download/fahrzeiten_soll_ist_20180304_20180310.csv', 'https://data.stadt-zuerich.ch/dataset/vbz_fahrzeiten_ogd/resource/b45b383e-4b0d-4ad0-8bee-e958c5e7360a/download/fahrzeiten_soll_ist_20180121_20180127.csv', 'https://data.stadt-zuerich.ch/dataset/vbz_fahrzeiten_ogd/resource/f17a950d-5be5-4b00-bafd-3c859afcc6cc/download/fahrzeiten_soll_ist_20180204_20180210.csv', 'https://data.stadt-zuerich.ch/dataset/vbz_fahrzeiten_ogd/resource/a38c5d0f-b732-4f5a-9786-eb01a2ffa0bb/download/fahrzeiten_soll_ist_20180211_20180217.csv']\n",
    "frame = pd.DataFrame()\n",
    "list_ = []\n",
    "for path_ in listpaths:\n",
    "    df = pd.read_csv(path_,index_col=None)\n",
    "    list_.append(df)\n",
    "df = pd.concat(list_)\n",
    "# check size\n",
    "check = pd.DataFrame(data=df)\n",
    "col = check.shape[1]\n",
    "row = check.shape[0]\n",
    "print(row)\n",
    "print(col)\n",
    "# print(df)\n",
    "print(df.head())\n",
    "# for i in range(2):\n",
    "#     s = requests.get(path.i).content\n",
    "#     c = pd.read_csv(glob.glob(io.StringIO(s.decode('utf-8')[0]), index_col=None)\n",
    "#     df = pd.DataFrame(data=c)"
   ]
  },
  {
   "cell_type": "markdown",
   "metadata": {},
   "source": [
    "## Time difference calculation and formatting"
   ]
  },
  {
   "cell_type": "code",
   "execution_count": null,
   "metadata": {},
   "outputs": [],
   "source": [
    "df.drop(df.columns[[3, 4, 5, 6, 7, 8, 9, 12, 13, 14, 15, 16, 17, 18, 19, 20, 21, 22, 23, 24, 25, 26, 27, 28, 29, 30, 31, 32, 33]], axis=1, inplace=True)\n",
    "pd.DataFrame.mask = mask\n",
    "df = df.mask('linie',69)\n",
    "check = pd.DataFrame(data=df)\n",
    "col = check.shape[1]\n",
    "row = check.shape[0]\n",
    "print(row)\n",
    "print(col)\n",
    "df.loc[:,'diff'] = (df['ist_an_von'] - df['soll_an_von'])\n",
    "dp = df.copy()\n",
    "dp.reset_index(drop=True, inplace=True)\n",
    "dp.loc[:,'time'] = dp.loc[:,'soll_an_von'].copy().astype(float)\n",
    "dp.loc[:,'time'] = pd.to_datetime(dp.loc[:,'time'], errors='coerce', unit='s')\n",
    "dp.loc[:,'time'] = dp.loc[:,'time'].dt.strftime('%H:%M')\n",
    "df1 = dp.copy()\n",
    "df1.drop(dp.columns[[3, 4]], axis=1, inplace=True)\n",
    "df1['time'] = pd.to_datetime(df1['betriebsdatum'] + ' ' + df1['time'])\n",
    "df1.drop(df1.columns[[2]],axis=1, inplace = True)\n",
    "df1.loc[:,'diff'] = df1.loc[:,'diff'].apply(pd.to_numeric, errors='coerce',downcast='float')\n",
    "df1.loc[:,'time'] = df1.loc[:,'time'].dt.round('60min') \n",
    "print(df1.head())\n",
    "print(df1.dtypes)"
   ]
  },
  {
   "cell_type": "markdown",
   "metadata": {},
   "source": [
    "## Import of Weather Data .csv"
   ]
  },
  {
   "cell_type": "code",
   "execution_count": null,
   "metadata": {},
   "outputs": [],
   "source": [
    "#turn off warnings\n",
    "pd.options.mode.chained_assignment = None\n",
    "#input folder\n",
    "path = r'./weather/*.csv'\n",
    "#import csv as dataframe\n",
    "new_cols = ['weather']\n",
    "we = pd.read_csv(glob.glob('./weather/*.csv')[0], header=None, names = new_cols)\n",
    "wet1 = pd.DataFrame(data = we)\n",
    "#clean-up\n",
    "wet = wet1.iloc[3:]\n",
    "wet.loc[:,'time'] = wet.weather.str.split(';').str.get(0)\n",
    "wet.loc[:,'rain'] = wet.weather.str.split(';').str.get(1) \n",
    "wet.drop(wet.columns[[0]], axis=1, inplace = True)\n",
    "wet.loc[:,'time'] = pd.to_datetime(wet.loc[:,'time'])\n",
    "wet.loc[:,'rain'] = wet.loc[:,'rain'].apply(pd.to_numeric, errors='coerce')\n",
    "\n",
    "q = wet.shape[1]\n",
    "o = wet.shape[0]\n",
    "print('Number of columns: %d'%q)\n",
    "print('Number of rows: %d'%o)   \n",
    "print(wet.head())\n",
    "print(wet.dtypes)"
   ]
  },
  {
   "cell_type": "markdown",
   "metadata": {},
   "source": [
    "## Matching Rain and Time Difference"
   ]
  },
  {
   "cell_type": "code",
   "execution_count": null,
   "metadata": {},
   "outputs": [],
   "source": [
    "# def nearest(items, pivot):\n",
    "#     return min(items, key=lambda x: abs(x - pivot))\n",
    "# df1.apply(nearest(wet.loc[:,'time'],df1.loc[:,'time']))\n",
    "# df1.set_index(df1.loc[:,'time'], inplace=True)\n",
    "# wet.set_index(wet.loc[:,'time'], inplace=True)\n",
    "\n",
    "# print(df1.head())\n",
    "# print(wet.head())\n",
    "\n",
    "# left merge on both time col which are in datetime format\n",
    "merge = df1.merge(wet, left_on='time', right_on='time', how='left')\n",
    "print(merge)\n",
    "print(merge.dtypes)\n",
    "# df1.iloc[df1.index.get_loc(wet.loc[:,'time'],method='nearest')]\n",
    "# df1['time'] = pd.DatetimeIndex(wet['time']).normalize()\n",
    "# df1.apply(lambda col: col.drop_duplicates().reset_index(drop=True))\n",
    "# pred = pd.merge(df1, wet).head()\n"
   ]
  },
  {
   "cell_type": "markdown",
   "metadata": {},
   "source": [
    "## Prediction"
   ]
  },
  {
   "cell_type": "code",
   "execution_count": null,
   "metadata": {},
   "outputs": [],
   "source": [
    "import matplotlib.pyplot as plt\n",
    "from matplotlib import style\n",
    "style.use(\"ggplot\")\n",
    "from sklearn import svm\n",
    "\n",
    "x = merge.loc[:,'rain']\n",
    "y = merge.loc[:,'diff']\n",
    "\n",
    "# output folder\n",
    "newpath = r'./output/'\n",
    "if os.path.exists(newpath):\n",
    "    shutil.rmtree(newpath, ignore_errors=True)\n",
    "os.makedirs(newpath)\n",
    "plt.scatter(x,y)\n",
    "plt.title(\"Correlation\")\n",
    "plt.xlabel(\"rain[mm/h]\")\n",
    "plt.ylabel(\"delay[s]\")\n",
    "plt.savefig('./output/plot.png', format='png', dpi=1200)\n",
    "plt.show()\n",
    "\n",
    "# X = np.array([[1,2],\n",
    "#              [5,8],\n",
    "#              [1.5,1.8],\n",
    "#              [8,8],\n",
    "#              [1,0.6],\n",
    "#              [9,11]])\n",
    "\n",
    "# y = [0,1,0,1,0,1]\n",
    "# X.reshape(1, -1)\n",
    "\n",
    "# clf = svm.SVC(kernel='linear', C = 1.0)\n",
    "# clf.fit(X,y)\n",
    "\n",
    "# print(clf.predict([0.58,0.76]))\n",
    "\n",
    "\n",
    "# x_train = merge.loc[:,'rain']\n",
    "# y_train = merge.loc[:,'diff']\n",
    "# x_test = merge.loc[:,'rain']\n",
    "\n",
    "# linear = linear_model.LinearRegression()\n",
    "# linear.fit(x_train, y_train)\n",
    "# linear.score(x_train, y_train)\n",
    "# print('Coefficient: \\n', linear.coef_)\n",
    "# print('Intercept: \\n', linear.intercept_)\n",
    "# predicted= linear.predict(x_test)"
   ]
  },
  {
   "cell_type": "markdown",
   "metadata": {},
   "source": [
    "## Output"
   ]
  },
  {
   "cell_type": "code",
   "execution_count": null,
   "metadata": {},
   "outputs": [],
   "source": []
  },
  {
   "cell_type": "code",
   "execution_count": null,
   "metadata": {},
   "outputs": [],
   "source": []
  },
  {
   "cell_type": "code",
   "execution_count": null,
   "metadata": {},
   "outputs": [],
   "source": []
  }
 ],
 "metadata": {
  "kernelspec": {
   "display_name": "Python 3",
   "language": "python",
   "name": "python3"
  },
  "language_info": {
   "codemirror_mode": {
    "name": "ipython",
    "version": 3
   },
   "file_extension": ".py",
   "mimetype": "text/x-python",
   "name": "python",
   "nbconvert_exporter": "python",
   "pygments_lexer": "ipython3",
   "version": "3.6.4"
  }
 },
 "nbformat": 4,
 "nbformat_minor": 2
}
