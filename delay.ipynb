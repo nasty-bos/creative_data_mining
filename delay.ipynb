{
 "cells": [
  {
   "cell_type": "code",
   "execution_count": 1,
   "metadata": {},
   "outputs": [],
   "source": [
    "import io\n",
    "import shutil\n",
    "import requests\n",
    "import pandas as pd\n",
    "import numpy as np\n",
    "import csv\n",
    "import glob\n",
    "import os\n",
    "from sklearn import linear_model\n",
    "import numpy\n",
    "from datetime import datetime\n",
    "\n",
    "def mask(df, key, value):\n",
    "    return df[df[key] == value]"
   ]
  },
  {
   "cell_type": "markdown",
   "metadata": {},
   "source": [
    "## Import of Delay Data"
   ]
  },
  {
   "cell_type": "code",
   "execution_count": 2,
   "metadata": {},
   "outputs": [],
   "source": [
    "url = 'https://data.stadt-zuerich.ch/dataset/vbz_fahrzeiten_ogd/resource/03ec9d0a-b16f-4e78-8e4f-2da4970efbb6/download/fahrzeiten_soll_ist_20180325_20180331.csv'\n",
    "s = requests.get(url).content\n",
    "c = pd.read_csv(io.StringIO(s.decode('utf-8')), index_col=None)"
   ]
  },
  {
   "cell_type": "markdown",
   "metadata": {},
   "source": [
    "## Time difference calculation and formatting"
   ]
  },
  {
   "cell_type": "code",
   "execution_count": 3,
   "metadata": {},
   "outputs": [
    {
     "name": "stdout",
     "output_type": "stream",
     "text": [
      "15390\n",
      "5\n",
      "   linie  richtung  diff       time\n",
      "0     69         2   -55 2018-03-25\n",
      "1     69         2   -50 2018-03-25\n",
      "2     69         2   -32 2018-03-25\n",
      "3     69         2   -33 2018-03-25\n",
      "4     69         2   -16 2018-03-25\n",
      "linie                int64\n",
      "richtung             int64\n",
      "diff                 int64\n",
      "time        datetime64[ns]\n",
      "dtype: object\n"
     ]
    }
   ],
   "source": [
    "df = pd.DataFrame(data=c)\n",
    "df.drop(df.columns[[3, 4, 5, 6, 7, 8, 9, 12, 13, 14, 15, 16, 17, 18, 19, 20, 21, 22, 23, 24, 25, 26, 27, 28, 29, 30, 31, 32, 33]], axis=1, inplace=True)\n",
    "pd.DataFrame.mask = mask\n",
    "df = df.mask('linie',69)\n",
    "check = pd.DataFrame(data=df)\n",
    "col = check.shape[1]\n",
    "row = check.shape[0]\n",
    "print(row)\n",
    "print(col)\n",
    "df.loc[:,'diff'] = (df['ist_an_von'] - df['soll_an_von'])\n",
    "dp = df.copy()\n",
    "dp.reset_index(drop=True, inplace=True)\n",
    "dp.loc[:,'time'] = dp.loc[:,'soll_an_von'].copy().astype(float)\n",
    "dp.loc[:,'time'] = pd.to_datetime(dp.loc[:,'time'], errors='coerce', unit='s')\n",
    "dp.loc[:,'time'] = dp.loc[:,'time'].dt.strftime('%H:%M')\n",
    "df1 = dp.copy()\n",
    "df1.drop(dp.columns[[3, 4]], axis=1, inplace=True)\n",
    "df1['time'] = pd.to_datetime(df1['betriebsdatum'] + ' ' + df1['time'])\n",
    "df1.drop(df1.columns[[2]],axis=1, inplace = True)\n",
    "df1.loc[:,'diff'] = df1.loc[:,'diff'].apply(pd.to_numeric, errors='coerce',downcast='float')\n",
    "df1.loc[:,'time'] = df1.loc[:,'time'].dt.round('60min') \n",
    "print(df1.head())\n",
    "print(df1.dtypes)"
   ]
  },
  {
   "cell_type": "markdown",
   "metadata": {},
   "source": [
    "## Import of Weather Data .csv"
   ]
  },
  {
   "cell_type": "code",
   "execution_count": 4,
   "metadata": {},
   "outputs": [
    {
     "name": "stdout",
     "output_type": "stream",
     "text": [
      "Number of columns: 2\n",
      "Number of rows: 8784\n",
      "                 time  rain\n",
      "3 2017-03-31 00:00:00   0.0\n",
      "4 2017-03-31 01:00:00   0.0\n",
      "5 2017-03-31 02:00:00   0.0\n",
      "6 2017-03-31 03:00:00   0.0\n",
      "7 2017-03-31 04:00:00   0.0\n",
      "time    datetime64[ns]\n",
      "rain           float64\n",
      "dtype: object\n"
     ]
    }
   ],
   "source": [
    "#turn off warnings\n",
    "pd.options.mode.chained_assignment = None\n",
    "#input folder\n",
    "path = r'./weather/*.csv'\n",
    "#import csv as dataframe\n",
    "new_cols = ['weather']\n",
    "we = pd.read_csv(glob.glob('./weather/*.csv')[0], header=None, names = new_cols)\n",
    "wet1 = pd.DataFrame(data = we)\n",
    "#clean-up\n",
    "wet = wet1.iloc[3:]\n",
    "wet.loc[:,'time'] = wet.weather.str.split(';').str.get(0)\n",
    "wet.loc[:,'rain'] = wet.weather.str.split(';').str.get(1) \n",
    "wet.drop(wet.columns[[0]], axis=1, inplace = True)\n",
    "wet.loc[:,'time'] = pd.to_datetime(wet.loc[:,'time'])\n",
    "wet.loc[:,'rain'] = wet.loc[:,'rain'].apply(pd.to_numeric, errors='coerce')\n",
    "\n",
    "q = wet.shape[1]\n",
    "o = wet.shape[0]\n",
    "print('Number of columns: %d'%q)\n",
    "print('Number of rows: %d'%o)   \n",
    "print(wet.head())\n",
    "print(wet.dtypes)"
   ]
  },
  {
   "cell_type": "markdown",
   "metadata": {},
   "source": [
    "## Matching Rain and Time Difference"
   ]
  },
  {
   "cell_type": "code",
   "execution_count": 6,
   "metadata": {},
   "outputs": [
    {
     "name": "stdout",
     "output_type": "stream",
     "text": [
      "       linie  richtung  diff                time  rain\n",
      "0         69         2   -55 2018-03-25 00:00:00   0.0\n",
      "1         69         2   -50 2018-03-25 00:00:00   0.0\n",
      "2         69         2   -32 2018-03-25 00:00:00   0.0\n",
      "3         69         2   -33 2018-03-25 00:00:00   0.0\n",
      "4         69         2   -16 2018-03-25 00:00:00   0.0\n",
      "5         69         2    -4 2018-03-25 00:00:00   0.0\n",
      "6         69         2    11 2018-03-25 00:00:00   0.0\n",
      "7         69         1   -46 2018-03-25 00:00:00   0.0\n",
      "8         69         1   -30 2018-03-25 00:00:00   0.0\n",
      "9         69         1   -54 2018-03-25 00:00:00   0.0\n",
      "10        69         1   -39 2018-03-25 00:00:00   0.0\n",
      "11        69         1   -22 2018-03-25 00:00:00   0.0\n",
      "12        69         1     1 2018-03-25 00:00:00   0.0\n",
      "13        69         1     8 2018-03-25 00:00:00   0.0\n",
      "14        69         1     9 2018-03-25 00:00:00   0.0\n",
      "15        69         1   -10 2018-03-25 01:00:00   0.0\n",
      "16        69         1    -4 2018-03-25 00:00:00   0.0\n",
      "17        69         1    -4 2018-03-25 00:00:00   0.0\n",
      "18        69         1     7 2018-03-25 00:00:00   0.0\n",
      "19        69         1    24 2018-03-25 00:00:00   0.0\n",
      "20        69         1    39 2018-03-25 00:00:00   0.0\n",
      "21        69         1    45 2018-03-25 00:00:00   0.0\n",
      "22        69         1    40 2018-03-25 00:00:00   0.0\n",
      "23        69         2    26 2018-03-25 01:00:00   0.0\n",
      "24        69         2    37 2018-03-25 01:00:00   0.0\n",
      "25        69         2    53 2018-03-25 01:00:00   0.0\n",
      "26        69         2    57 2018-03-25 01:00:00   0.0\n",
      "27        69         2    68 2018-03-25 01:00:00   0.0\n",
      "28        69         2    72 2018-03-25 01:00:00   0.0\n",
      "29        69         2    59 2018-03-25 01:00:00   0.0\n",
      "...      ...       ...   ...                 ...   ...\n",
      "15360     69         2    36 2018-03-31 21:00:00   0.0\n",
      "15361     69         1   -11 2018-03-31 22:00:00   0.0\n",
      "15362     69         1   -18 2018-03-31 22:00:00   0.0\n",
      "15363     69         1   -17 2018-03-31 22:00:00   0.0\n",
      "15364     69         1    34 2018-03-31 07:00:00   0.0\n",
      "15365     69         1    43 2018-03-31 06:00:00   0.0\n",
      "15366     69         1    31 2018-03-31 06:00:00   0.0\n",
      "15367     69         1    34 2018-03-31 06:00:00   0.0\n",
      "15368     69         1    49 2018-03-31 06:00:00   0.0\n",
      "15369     69         1    47 2018-03-31 06:00:00   0.0\n",
      "15370     69         2     1 2018-03-31 23:00:00   0.0\n",
      "15371     69         2   -15 2018-03-31 23:00:00   0.0\n",
      "15372     69         2    -1 2018-03-31 23:00:00   0.0\n",
      "15373     69         2    -1 2018-03-31 23:00:00   0.0\n",
      "15374     69         2    12 2018-03-31 23:00:00   0.0\n",
      "15375     69         1    34 2018-03-31 06:00:00   0.0\n",
      "15376     69         1    10 2018-03-31 06:00:00   0.0\n",
      "15377     69         1    -5 2018-03-31 22:00:00   0.0\n",
      "15378     69         1   -16 2018-03-31 22:00:00   0.0\n",
      "15379     69         1    -2 2018-03-31 22:00:00   0.0\n",
      "15380     69         1     5 2018-03-31 22:00:00   0.0\n",
      "15381     69         1     1 2018-03-31 22:00:00   0.0\n",
      "15382     69         1   -17 2018-04-01 00:00:00   0.0\n",
      "15383     69         1   -13 2018-04-01 00:00:00   0.0\n",
      "15384     69         1   -21 2018-04-01 00:00:00   0.0\n",
      "15385     69         1   -10 2018-04-01 00:00:00   0.0\n",
      "15386     69         1     3 2018-04-01 00:00:00   0.0\n",
      "15387     69         1    -6 2018-04-01 00:00:00   0.0\n",
      "15388     69         1     8 2018-04-01 00:00:00   0.0\n",
      "15389     69         1    18 2018-04-01 00:00:00   0.0\n",
      "\n",
      "[15390 rows x 5 columns]\n",
      "linie                int64\n",
      "richtung             int64\n",
      "diff                 int64\n",
      "time        datetime64[ns]\n",
      "rain               float64\n",
      "dtype: object\n"
     ]
    }
   ],
   "source": [
    "# def nearest(items, pivot):\n",
    "#     return min(items, key=lambda x: abs(x - pivot))\n",
    "# df1.apply(nearest(wet.loc[:,'time'],df1.loc[:,'time']))\n",
    "# df1.set_index(df1.loc[:,'time'], inplace=True)\n",
    "# wet.set_index(wet.loc[:,'time'], inplace=True)\n",
    "\n",
    "# print(df1.head())\n",
    "# print(wet.head())\n",
    "\n",
    "# left merge on both time col which are in datetime format\n",
    "merge = df1.merge(wet, left_on='time', right_on='time', how='left')\n",
    "print(merge)\n",
    "print(merge.dtypes)\n",
    "# df1.iloc[df1.index.get_loc(wet.loc[:,'time'],method='nearest')]\n",
    "# df1['time'] = pd.DatetimeIndex(wet['time']).normalize()\n",
    "# df1.apply(lambda col: col.drop_duplicates().reset_index(drop=True))\n",
    "# pred = pd.merge(df1, wet).head()\n"
   ]
  },
  {
   "cell_type": "markdown",
   "metadata": {},
   "source": [
    "## Prediction"
   ]
  },
  {
   "cell_type": "code",
   "execution_count": 15,
   "metadata": {},
   "outputs": [
    {
     "data": {
      "image/png": "[encoded data removed]",
      "text/plain": [
       "<matplotlib.figure.Figure at 0x1a1c78d8d0>"
      ]
     },
     "metadata": {},
     "output_type": "display_data"
    }
   ],
   "source": [
    "import numpy as np\n",
    "import matplotlib.pyplot as plt\n",
    "from matplotlib import style\n",
    "style.use(\"ggplot\")\n",
    "from sklearn import svm\n",
    "\n",
    "x = merge.loc[:,'rain']\n",
    "y = merge.loc[:,'diff']\n",
    "\n",
    "# output folder\n",
    "newpath = r'./output/'\n",
    "if os.path.exists(newpath):\n",
    "    shutil.rmtree(newpath, ignore_errors=True)\n",
    "os.makedirs(newpath)\n",
    "plt.scatter(x,y)\n",
    "plt.title(\"Correlation\")\n",
    "plt.xlabel(\"rain[mm/h]\")\n",
    "plt.ylabel(\"delay[s]\")\n",
    "plt.savefig('./output/plot.png', format='png', dpi=1200)\n",
    "# plt.show()\n",
    "\n",
    "# X = np.array([[1,2],\n",
    "#              [5,8],\n",
    "#              [1.5,1.8],\n",
    "#              [8,8],\n",
    "#              [1,0.6],\n",
    "#              [9,11]])\n",
    "\n",
    "# y = [0,1,0,1,0,1]\n",
    "# X.reshape(1, -1)\n",
    "\n",
    "# clf = svm.SVC(kernel='linear', C = 1.0)\n",
    "# clf.fit(X,y)\n",
    "\n",
    "# print(clf.predict([0.58,0.76]))\n",
    "\n",
    "\n",
    "# x_train = merge.loc[:,'rain']\n",
    "# y_train = merge.loc[:,'diff']\n",
    "# x_test = merge.loc[:,'rain']\n",
    "\n",
    "# linear = linear_model.LinearRegression()\n",
    "# linear.fit(x_train, y_train)\n",
    "# linear.score(x_train, y_train)\n",
    "# print('Coefficient: \\n', linear.coef_)\n",
    "# print('Intercept: \\n', linear.intercept_)\n",
    "# predicted= linear.predict(x_test)"
   ]
  },
  {
   "cell_type": "markdown",
   "metadata": {},
   "source": [
    "## Output"
   ]
  },
  {
   "cell_type": "code",
   "execution_count": null,
   "metadata": {},
   "outputs": [],
   "source": []
  },
  {
   "cell_type": "code",
   "execution_count": null,
   "metadata": {},
   "outputs": [],
   "source": []
  },
  {
   "cell_type": "code",
   "execution_count": null,
   "metadata": {},
   "outputs": [],
   "source": []
  }
 ],
 "metadata": {
  "kernelspec": {
   "display_name": "Python 3",
   "language": "python",
   "name": "python3"
  },
  "language_info": {
   "codemirror_mode": {
    "name": "ipython",
    "version": 3
   },
   "file_extension": ".py",
   "mimetype": "text/x-python",
   "name": "python",
   "nbconvert_exporter": "python",
   "pygments_lexer": "ipython3",
   "version": "3.6.4"
  }
 },
 "nbformat": 4,
 "nbformat_minor": 2
}
