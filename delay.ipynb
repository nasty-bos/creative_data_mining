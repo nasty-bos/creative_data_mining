{
 "cells": [
  {
   "cell_type": "code",
   "execution_count": 1,
   "metadata": {},
   "outputs": [],
   "source": [
    "import io\n",
    "import shutil\n",
    "import requests\n",
    "import pandas as pd\n",
    "import numpy as np\n",
    "import csv\n",
    "import glob\n",
    "import os\n",
    "from sklearn import linear_model\n",
    "from datetime import datetime\n",
    "\n",
    "def mask(df, key, value):\n",
    "    return df[df[key] == value]\n",
    "\n",
    "#turn off warnings\n",
    "pd.options.mode.chained_assignment = None"
   ]
  },
  {
   "cell_type": "markdown",
   "metadata": {},
   "source": [
    "## Import of Delay Data"
   ]
  },
  {
   "cell_type": "code",
   "execution_count": 2,
   "metadata": {},
   "outputs": [
    {
     "name": "stdout",
     "output_type": "stream",
     "text": [
      "1357316\n",
      "34\n",
      "   linie  richtung betriebsdatum  fahrzeug  kurs  seq_von  halt_diva_von  \\\n",
      "0      2         1      25.02.18      2036     6        1           6030   \n",
      "1      2         1      25.02.18      3004     3        1            478   \n",
      "\n",
      "   halt_punkt_diva_von halt_kurz_von1 datum_von         ...          \\\n",
      "0                    0           DEP4  25.02.18         ...           \n",
      "1                    0           BEZI  25.02.18         ...           \n",
      "\n",
      "   fahrweg_id  fw_no  fw_typ  fw_kurz                   fw_lang  umlauf_von  \\\n",
      "0       57553     15       2       15               DEP4 - KALK      162622   \n",
      "1       61838     11       1       11  BEZI - BTIE für Ausfahrt      160677   \n",
      "\n",
      "   halt_id_von halt_id_nach halt_punkt_id_von  halt_punkt_id_nach  \n",
      "0         2251         1906             14600               10563  \n",
      "1         1306         1502             12780               14599  \n",
      "\n",
      "[2 rows x 34 columns]\n"
     ]
    }
   ],
   "source": [
    "# 'https://data.stadt-zuerich.ch/dataset/vbz_fahrzeiten_ogd/resource/03ec9d0a-b16f-4e78-8e4f-2da4970efbb6/download/fahrzeiten_soll_ist_20180325_20180331.csv', 'https://data.stadt-zuerich.ch/dataset/vbz_fahrzeiten_ogd/resource/c88a3801-c6fc-4d32-8ece-e269899be497/download/fahrzeiten_soll_ist_20180318_20180324.csv', 'https://data.stadt-zuerich.ch/dataset/vbz_fahrzeiten_ogd/resource/eb403fd1-8f8b-475e-98aa-f04ee3b255ba/download/fahrzeiten_soll_ist_20180311_20180317.csv', 'https://data.stadt-zuerich.ch/dataset/vbz_fahrzeiten_ogd/resource/1ac13127-fcde-4ac2-8462-50f348fd28fe/download/fahrzeiten_soll_ist_20180218_20180224.csv', 'https://data.stadt-zuerich.ch/dataset/vbz_fahrzeiten_ogd/resource/97e59d2a-83ec-438f-ae6f-0fe85d9bc1e6/download/fahrzeiten_soll_ist_20180304_20180310.csv', 'https://data.stadt-zuerich.ch/dataset/vbz_fahrzeiten_ogd/resource/b45b383e-4b0d-4ad0-8bee-e958c5e7360a/download/fahrzeiten_soll_ist_20180121_20180127.csv', 'https://data.stadt-zuerich.ch/dataset/vbz_fahrzeiten_ogd/resource/f17a950d-5be5-4b00-bafd-3c859afcc6cc/download/fahrzeiten_soll_ist_20180204_20180210.csv', 'https://data.stadt-zuerich.ch/dataset/vbz_fahrzeiten_ogd/resource/a38c5d0f-b732-4f5a-9786-eb01a2ffa0bb/download/fahrzeiten_soll_ist_20180211_20180217.csv', \n",
    "listpaths = ['https://data.stadt-zuerich.ch/dataset/vbz_fahrzeiten_ogd/resource/a265b5d8-287f-4d22-88b2-f3a1770e1a4a/download/fahrzeiten_soll_ist_20180225_20180303.csv']\n",
    "frame = pd.DataFrame()\n",
    "list_ = []\n",
    "for path_ in listpaths:\n",
    "    df = pd.read_csv(path_,index_col=None)\n",
    "    list_.append(df)\n",
    "df = pd.concat(list_)\n",
    "# check size\n",
    "check = pd.DataFrame(data=df)\n",
    "col = check.shape[1]\n",
    "row = check.shape[0]\n",
    "\n",
    "print(row)\n",
    "print(col)\n",
    "# print(df)\n",
    "print(df.head(2))\n",
    "# for i in range(2):\n",
    "#     s = requests.get(path.i).content\n",
    "#     c = pd.read_csv(glob.glob(io.StringIO(s.decode('utf-8')[0]), index_col=None)\n",
    "#     df = pd.DataFrame(data=c)"
   ]
  },
  {
   "cell_type": "markdown",
   "metadata": {},
   "source": [
    "## Time difference calculation and formatting"
   ]
  },
  {
   "cell_type": "code",
   "execution_count": 3,
   "metadata": {},
   "outputs": [
    {
     "name": "stderr",
     "output_type": "stream",
     "text": [
      "/Users/emanuel/Documents/Coding/anaconda3/lib/python3.6/site-packages/pandas/core/indexing.py:357: SettingWithCopyWarning: \n",
      "A value is trying to be set on a copy of a slice from a DataFrame.\n",
      "Try using .loc[row_indexer,col_indexer] = value instead\n",
      "\n",
      "See the caveats in the documentation: http://pandas.pydata.org/pandas-docs/stable/indexing.html#indexing-view-versus-copy\n",
      "  self.obj[key] = _infer_fill_value(value)\n",
      "/Users/emanuel/Documents/Coding/anaconda3/lib/python3.6/site-packages/pandas/core/indexing.py:537: SettingWithCopyWarning: \n",
      "A value is trying to be set on a copy of a slice from a DataFrame.\n",
      "Try using .loc[row_indexer,col_indexer] = value instead\n",
      "\n",
      "See the caveats in the documentation: http://pandas.pydata.org/pandas-docs/stable/indexing.html#indexing-view-versus-copy\n",
      "  self.obj[item] = s\n"
     ]
    },
    {
     "name": "stdout",
     "output_type": "stream",
     "text": [
      "1357316\n",
      "5\n",
      "   linie  richtung  diff                time\n",
      "0     69         2    98 2018-02-25 01:00:00\n",
      "1     69         2    73 2018-02-25 00:00:00\n",
      "2     69         2    93 2018-02-25 00:00:00\n",
      "3     69         2   112 2018-02-25 00:00:00\n",
      "4     69         2   132 2018-02-25 00:00:00\n",
      "linie                int64\n",
      "richtung             int64\n",
      "diff                 int64\n",
      "time        datetime64[ns]\n",
      "dtype: object\n"
     ]
    }
   ],
   "source": [
    "df.drop(df.columns[[3, 4, 5, 6, 7, 8, 9, 12, 13, 14, 15, 16, 17, 18, 19, 20, 21, 22, 23, 24, 25, 26, 27, 28, 29, 30, 31, 32, 33]], axis=1, inplace=True)\n",
    "pd.DataFrame.mask = mask\n",
    "df2 = df.mask('linie',69)\n",
    "check = pd.DataFrame(data=df)\n",
    "col = check.shape[1]\n",
    "row = check.shape[0]\n",
    "\n",
    "df2.loc[:,'diff'] = (df2['ist_an_von'] - df2['soll_an_von'])\n",
    "dp = df2.copy()\n",
    "dp.reset_index(drop=True, inplace=True)\n",
    "dp.loc[:,'time'] = dp.loc[:,'soll_an_von'].copy().astype(float)\n",
    "dp.loc[:,'time'] = pd.to_datetime(dp.loc[:,'time'], errors='coerce', unit='s')\n",
    "dp.loc[:,'time'] = dp.loc[:,'time'].dt.strftime('%H:%M')\n",
    "df1 = dp.copy()\n",
    "df1.drop(dp.columns[[3, 4]], axis=1, inplace=True)\n",
    "df1['time'] = pd.to_datetime(df1['betriebsdatum'] + ' ' + df1['time'])\n",
    "df1.drop(df1.columns[[2]],axis=1, inplace = True)\n",
    "df1.loc[:,'diff'] = df1.loc[:,'diff'].apply(pd.to_numeric, errors='coerce',downcast='float')\n",
    "df1.loc[:,'time'] = df1.loc[:,'time'].dt.round('60min') \n",
    "df1 = df1.dropna(how='any') \n",
    "df1['diff'] = df1['diff'].astype(int)\n",
    "df1 = df1.loc[df1['diff'] > 60]\n",
    "\n",
    "print(row)\n",
    "print(col)\n",
    "print(df1.head())\n",
    "print(df1.dtypes)"
   ]
  },
  {
   "cell_type": "markdown",
   "metadata": {},
   "source": [
    "## Weather Data"
   ]
  },
  {
   "cell_type": "code",
   "execution_count": 4,
   "metadata": {},
   "outputs": [
    {
     "name": "stdout",
     "output_type": "stream",
     "text": [
      "Number of columns: 2\n",
      "Number of rows: 7040\n",
      "                 time  rain\n",
      "3 2017-03-31 00:00:00   0.0\n",
      "4 2017-03-31 01:00:00   0.0\n",
      "5 2017-03-31 02:00:00   0.0\n",
      "6 2017-03-31 03:00:00   0.0\n",
      "7 2017-03-31 04:00:00   0.0\n",
      "time    datetime64[ns]\n",
      "rain           float64\n",
      "dtype: object\n"
     ]
    }
   ],
   "source": [
    "#input folder\n",
    "path = r'./weather/*.csv'\n",
    "#import csv as dataframe\n",
    "new_cols = ['weather']\n",
    "we = pd.read_csv(glob.glob('./weather/*.csv')[0], header=None, names = new_cols)\n",
    "wet1 = pd.DataFrame(data = we)\n",
    "#clean-up\n",
    "wet = wet1.iloc[3:]\n",
    "wet.loc[:,'time'] = wet.weather.str.split(';').str.get(0)\n",
    "wet.loc[:,'rain'] = wet.weather.str.split(';').str.get(1) \n",
    "wet.drop(wet.columns[[0]], axis=1, inplace = True)\n",
    "wet.loc[:,'time'] = pd.to_datetime(wet.loc[:,'time'])\n",
    "wet.loc[:,'rain'] = wet.loc[:,'rain'].apply(pd.to_numeric, errors='coerce')\n",
    "wet = wet.dropna(how='any') \n",
    "#wet = wet.loc[wet['rain']*10]\n",
    "#wet['rain'] = wet['rain'].astype(int)\n",
    "#wet = wet.loc[wet['rain'] > 0]\n",
    "\n",
    "q = wet.shape[1]\n",
    "o = wet.shape[0]\n",
    "print('Number of columns: %d'%q)\n",
    "print('Number of rows: %d'%o)   \n",
    "print(wet.head())\n",
    "print(wet.dtypes)"
   ]
  },
  {
   "cell_type": "markdown",
   "metadata": {},
   "source": [
    "## Matching Rain and Time Difference"
   ]
  },
  {
   "cell_type": "code",
   "execution_count": 5,
   "metadata": {},
   "outputs": [
    {
     "name": "stdout",
     "output_type": "stream",
     "text": [
      "   linie  richtung  diff                time  rain\n",
      "0     69         2    98 2018-02-25 01:00:00   0.0\n",
      "1     69         2    73 2018-02-25 00:00:00   0.0\n",
      "2     69         2    93 2018-02-25 00:00:00   0.0\n",
      "linie                int64\n",
      "richtung             int64\n",
      "diff                 int64\n",
      "time        datetime64[ns]\n",
      "rain               float64\n",
      "dtype: object\n"
     ]
    }
   ],
   "source": [
    "# def nearest(items, pivot):\n",
    "#     return min(items, key=lambda x: abs(x - pivot))\n",
    "# df1.apply(nearest(wet.loc[:,'time'],df1.loc[:,'time']))\n",
    "# df1.set_index(df1.loc[:,'time'], inplace=True)\n",
    "# wet.set_index(wet.loc[:,'time'], inplace=True)\n",
    "\n",
    "# print(df1.head())\n",
    "# print(wet.head())\n",
    "\n",
    "# left merge on both time col which are in datetime format\n",
    "merge = df1.merge(wet, left_on='time', right_on='time', how='inner')\n",
    "                          \n",
    "print(merge.head(3))\n",
    "print(merge.dtypes)\n",
    "# df1.iloc[df1.index.get_loc(wet.loc[:,'time'],method='nearest')]\n",
    "# df1['time'] = pd.DatetimeIndex(wet['time']).normalize()\n",
    "# df1.apply(lambda col: col.drop_duplicates().reset_index(drop=True))\n",
    "# pred = pd.merge(df1, wet).head()\n"
   ]
  },
  {
   "cell_type": "markdown",
   "metadata": {},
   "source": [
    "## Correlation"
   ]
  },
  {
   "cell_type": "code",
   "execution_count": 11,
   "metadata": {},
   "outputs": [
    {
     "data": {
      "image/png": "[encoded data removed]",
      "text/plain": [
       "<matplotlib.figure.Figure at 0x1a0e154710>"
      ]
     },
     "metadata": {},
     "output_type": "display_data"
    },
    {
     "name": "stdout",
     "output_type": "stream",
     "text": [
      "count    2884.000000\n",
      "mean        0.061859\n",
      "std         0.224670\n",
      "min         0.000000\n",
      "25%         0.000000\n",
      "50%         0.000000\n",
      "75%         0.000000\n",
      "max         1.600000\n",
      "Name: rain, dtype: float64\n",
      "count    2884.000000\n",
      "mean      181.581831\n",
      "std       450.484881\n",
      "min        61.000000\n",
      "25%        75.000000\n",
      "50%        96.000000\n",
      "75%       136.000000\n",
      "max      4369.000000\n",
      "Name: diff, dtype: float64\n",
      "r-squared: 0.0013571483483089996\n"
     ]
    }
   ],
   "source": [
    "import matplotlib.pyplot as plt\n",
    "from matplotlib import style\n",
    "style.use(\"ggplot\")\n",
    "from sklearn import svm\n",
    "from scipy import stats\n",
    "\n",
    "x = merge.loc[:,'rain']\n",
    "y = merge.loc[:,'diff']\n",
    "\n",
    "# output folder\n",
    "newpath = r'./output/'\n",
    "if os.path.exists(newpath):\n",
    "    shutil.rmtree(newpath, ignore_errors=True)\n",
    "os.makedirs(newpath)\n",
    "plt.scatter(x,y)\n",
    "plt.title(\"Correlation\")\n",
    "plt.xlabel(\"rain[mm/h]\")\n",
    "plt.ylabel(\"delay[s]\")\n",
    "plt.savefig('./output/plot.png', format='png', dpi=1200)\n",
    "plt.show()\n",
    "\n",
    "print(merge.loc[:,'rain'].describe())\n",
    "print(merge.loc[:,'diff'].describe())\n",
    "\n",
    "slope, intercept, r_value, p_value, std_err = stats.linregress(merge.loc[:,'rain'], merge.loc[:,'diff'])\n",
    "print(\"r-squared:\", r_value**2)"
   ]
  },
  {
   "cell_type": "markdown",
   "metadata": {},
   "source": [
    "## Prediction"
   ]
  },
  {
   "cell_type": "code",
   "execution_count": 13,
   "metadata": {},
   "outputs": [
    {
     "data": {
      "image/png": "[encoded data removed]",
      "text/plain": [
       "<matplotlib.figure.Figure at 0x1a0e4c8400>"
      ]
     },
     "metadata": {},
     "output_type": "display_data"
    }
   ],
   "source": [
    "X = merge.loc[:,['rain']]\n",
    "y = merge.loc[:,'diff']\n",
    "from sklearn.svm import SVC\n",
    "clf = SVC()\n",
    "clf.fit(X, y)\n",
    "SVC(C=1.0, cache_size=200, class_weight=None, coef0=0.0,\n",
    "    decision_function_shape='ovr', degree=3, gamma='auto', kernel='rbf',\n",
    "    max_iter=-1, probability=False, random_state=None, shrinking=True,\n",
    "    tol=0.001, verbose=False)\n",
    "pred = clf.predict(merge.loc[:,['rain']])\n",
    "plt.scatter(merge.loc[:,['rain']],pred)\n",
    "plt.ylabel('predicted delay')\n",
    "plt.show()\n",
    "\n",
    "\n",
    "\n",
    "# x_train = merge.loc[:,'rain']\n",
    "# y_train = merge.loc[:,'diff']\n",
    "# x_test = merge.loc[:,'rain']\n",
    "\n",
    "# linear = linear_model.LinearRegression()\n",
    "# linear.fit(x_train, y_train)\n",
    "# linear.score(x_train, y_train)\n",
    "# print('Coefficient: \\n', linear.coef_)\n",
    "# print('Intercept: \\n', linear.intercept_)\n",
    "# predicted= linear.predict(x_test)"
   ]
  },
  {
   "cell_type": "code",
   "execution_count": null,
   "metadata": {},
   "outputs": [],
   "source": []
  },
  {
   "cell_type": "code",
   "execution_count": null,
   "metadata": {},
   "outputs": [],
   "source": []
  }
 ],
 "metadata": {
  "kernelspec": {
   "display_name": "Python 3",
   "language": "python",
   "name": "python3"
  },
  "language_info": {
   "codemirror_mode": {
    "name": "ipython",
    "version": 3
   },
   "file_extension": ".py",
   "mimetype": "text/x-python",
   "name": "python",
   "nbconvert_exporter": "python",
   "pygments_lexer": "ipython3",
   "version": "3.6.4"
  }
 },
 "nbformat": 4,
 "nbformat_minor": 2
}
