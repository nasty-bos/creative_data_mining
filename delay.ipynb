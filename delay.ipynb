{
 "cells": [
  {
   "cell_type": "code",
   "execution_count": 1,
   "metadata": {},
   "outputs": [],
   "source": [
    "import shutil\n",
    "import pandas as pd\n",
    "import numpy as np\n",
    "from scipy import stats\n",
    "import os\n",
    "import matplotlib.pyplot as plt\n",
    "from matplotlib import style\n",
    "\n",
    "pd.options.mode.chained_assignment = None   # turn off warnings\n"
   ]
  },
  {
   "cell_type": "markdown",
   "metadata": {},
   "source": [
    "## Import of Delay Data"
   ]
  },
  {
   "cell_type": "code",
   "execution_count": 2,
   "metadata": {},
   "outputs": [
    {
     "name": "stdout",
     "output_type": "stream",
     "text": [
      "delay data rows: 15303287\n",
      "delay data columns: 5\n",
      "   linie  richtung betriebsdatum  soll_an_von  ist_an_von\n",
      "0      2         1    2018-01-04        17580       17557\n",
      "1      2         1    2018-01-04        17802       17826\n",
      "2      2         1    2018-01-04        18222       18196\n"
     ]
    },
    {
     "data": {
      "image/png": "[encoded data removed]",
      "text/plain": [
       "<matplotlib.figure.Figure at 0x101a1d2b0>"
      ]
     },
     "metadata": {},
     "output_type": "display_data"
    }
   ],
   "source": [
    "# test pandas.read_csv infer datetime\n",
    "listpaths = [\n",
    "    'https://data.stadt-zuerich.ch/dataset/vbz_fahrzeiten_ogd/resource/152051e6-1193-43c0-89b8-21b361f49970/download/fahrzeiten_soll_ist_20180401_20180407.csv',\n",
    "    'https://data.stadt-zuerich.ch/dataset/vbz_fahrzeiten_ogd/resource/03ec9d0a-b16f-4e78-8e4f-2da4970efbb6/download/fahrzeiten_soll_ist_20180325_20180331.csv',\n",
    "    'https://data.stadt-zuerich.ch/dataset/vbz_fahrzeiten_ogd/resource/c88a3801-c6fc-4d32-8ece-e269899be497/download/fahrzeiten_soll_ist_20180318_20180324.csv',\n",
    "    'https://data.stadt-zuerich.ch/dataset/vbz_fahrzeiten_ogd/resource/eb403fd1-8f8b-475e-98aa-f04ee3b255ba/download/fahrzeiten_soll_ist_20180311_20180317.csv',\n",
    "    'https://data.stadt-zuerich.ch/dataset/vbz_fahrzeiten_ogd/resource/97e59d2a-83ec-438f-ae6f-0fe85d9bc1e6/download/fahrzeiten_soll_ist_20180304_20180310.csv',\n",
    "    'https://data.stadt-zuerich.ch/dataset/vbz_fahrzeiten_ogd/resource/a265b5d8-287f-4d22-88b2-f3a1770e1a4a/download/fahrzeiten_soll_ist_20180225_20180303.csv',\n",
    "    'https://data.stadt-zuerich.ch/dataset/vbz_fahrzeiten_ogd/resource/1ac13127-fcde-4ac2-8462-50f348fd28fe/download/fahrzeiten_soll_ist_20180218_20180224.csv',\n",
    "    'https://data.stadt-zuerich.ch/dataset/vbz_fahrzeiten_ogd/resource/a38c5d0f-b732-4f5a-9786-eb01a2ffa0bb/download/fahrzeiten_soll_ist_20180211_20180217.csv',\n",
    "    'https://data.stadt-zuerich.ch/dataset/vbz_fahrzeiten_ogd/resource/f17a950d-5be5-4b00-bafd-3c859afcc6cc/download/fahrzeiten_soll_ist_20180204_20180210.csv',\n",
    "    'https://data.stadt-zuerich.ch/dataset/vbz_fahrzeiten_ogd/resource/ee7f8901-5466-425d-98e6-98ddcf849079/download/fahrzeiten_soll_ist_20180128_20180203.csv',\n",
    "    'https://data.stadt-zuerich.ch/dataset/vbz_fahrzeiten_ogd/resource/b45b383e-4b0d-4ad0-8bee-e958c5e7360a/download/fahrzeiten_soll_ist_20180121_20180127.csv',\n",
    "    'https://data.stadt-zuerich.ch/dataset/vbz_fahrzeiten_ogd/resource/4bbaf516-824a-41b3-8a95-6679745ce7d3/download/fahrzeiten_soll_ist_20180114_20180120.csv',\n",
    "    'https://data.stadt-zuerich.ch/dataset/vbz_fahrzeiten_ogd/resource/bf39176c-d6c0-4741-8cd5-4e46e45c608e/download/fahrzeiten_soll_ist_20180107_20180113.csv']\n",
    "\n",
    "frame = pd.DataFrame()\n",
    "list_ = []\n",
    "for path_ in listpaths:\n",
    "    df = pd.read_csv(path_, usecols=[0,1,2,10,11], parse_dates=['betriebsdatum'] ,infer_datetime_format=True,  index_col=None)\n",
    "    list_.append(df)\n",
    "df = pd.concat(list_)\n",
    "\n",
    "check = pd.DataFrame(data=df)   # check size\n",
    "col = check.shape[1]\n",
    "row = check.shape[0]\n",
    "\n",
    "print('delay data rows: %d' % row)\n",
    "print('delay data columns: %d' % col)\n",
    "print(df.head(3))\n",
    "\n",
    "\n",
    "# === output folder\n",
    "newpath = r'./output/'\n",
    "if os.path.exists(newpath):\n",
    "    shutil.rmtree(newpath, ignore_errors=True)\n",
    "os.makedirs(newpath)\n",
    "\n",
    "# === csv to check input data\n",
    "df.to_csv('./output/input.csv', header=False, index=False)\n",
    "\n",
    "month = df.copy()\n",
    "month['time'] = month.loc[:, 'betriebsdatum'].apply(lambda x: x.month)\n",
    "# === 2D monthly distribution of delays\n",
    "x = month.loc[:, 'time']\n",
    "y = month.loc[:, 'ist_an_von']\n",
    "plt.scatter(x, y)\n",
    "plt.title(\"monate in datensatz\")\n",
    "plt.xlabel(\"months\")\n",
    "plt.ylabel(\"ankunftszeiten\")\n",
    "plt.savefig('./output/2Dmonthly.png', format='png', dpi=800)\n",
    "plt.show()\n"
   ]
  },
  {
   "cell_type": "markdown",
   "metadata": {},
   "source": [
    "## Seperation of MM-DD and DD-MM"
   ]
  },
  {
   "cell_type": "code",
   "execution_count": null,
   "metadata": {},
   "outputs": [],
   "source": [
    "# # === list one for YYYY-DD-MM\n",
    "# listpaths1 = [\n",
    "    \n",
    "# frame = pd.DataFrame()\n",
    "# list_1 = []\n",
    "# for path_ in listpaths1:\n",
    "#     df = pd.read_csv(path_, index_col=None)\n",
    "#     list_.append(df)\n",
    "# df = pd.concat(list_1)\n",
    "\n",
    "#     # === list two for YYYY-MM-DD\n",
    "# listpaths2 = [\n",
    "    \n",
    "#     'https://data.stadt-zuerich.ch/dataset/vbz_fahrzeiten_ogd/resource/1ac13127-fcde-4ac2-8462-50f348fd28fe/download/fahrzeiten_soll_ist_20180218_20180224.csv',\n",
    "# frame = pd.DataFrame()\n",
    "# list_2 = []\n",
    "# for path_ in listpaths2:\n",
    "#     df = pd.read_csv(path_, index_col=None)\n",
    "#     list_.append(df)\n",
    "# df = pd.concat(list_2)\n",
    "\n",
    "# check = pd.DataFrame(data=df)   # check size\n",
    "# col = check.shape[1]\n",
    "# row = check.shape[0]\n",
    "\n",
    "# print('delay data rows: %d' % row)\n",
    "# print('delay data columns: %d' % col)\n",
    "# print(df.head(3))"
   ]
  },
  {
   "cell_type": "markdown",
   "metadata": {},
   "source": [
    "## Time difference calculation and formatting"
   ]
  },
  {
   "cell_type": "code",
   "execution_count": null,
   "metadata": {},
   "outputs": [],
   "source": [
    "def mask(df, key, value):\n",
    "    return df[df[key] == value]\n",
    "\n",
    "\n",
    "df.drop(df.columns[\n",
    "            [3, 4, 5, 6, 7, 8, 9, 12, 13, 14, 15, 16, 17, 18, 19, 20, 21, 22, 23, 24, 25, 26, 27, 28, 29, 30, 31, 32,\n",
    "             33]], axis=1, inplace=True)\n",
    "pd.DataFrame.mask = mask\n",
    "df2 = df.mask('linie', 69)\n",
    "\n",
    "df2.loc[:, 'diff'] = (df2['ist_an_von'] - df2['soll_an_von'])\n",
    "dp = df2.copy()\n",
    "dp.reset_index(drop=True, inplace=True)\n",
    "dp.loc[:, 'time'] = dp.loc[:, 'soll_an_von'].copy().astype(float)\n",
    "dp.loc[:, 'time'] = pd.to_datetime(dp.loc[:, 'time'], errors='coerce', unit='s')\n",
    "dp.loc[:, 'time'] = dp.loc[:, 'time'].dt.strftime('%H:%M')\n",
    "df1 = dp.copy()\n",
    "df1.drop(dp.columns[[3, 4]], axis=1, inplace=True)\n",
    "df1['time'] = pd.to_datetime(df1['betriebsdatum'] + ' ' + df1['time'])\n",
    "df1.drop(df1.columns[[2]], axis=1, inplace=True)\n",
    "df1.loc[:, 'diff'] = df1.loc[:, 'diff'].apply(pd.to_numeric, errors='coerce', downcast='float')\n",
    "df1.loc[:, 'time'] = df1.loc[:, 'time'].dt.round('60min')\n",
    "df1 = df1.dropna(how='any')\n",
    "df1['diff'] = df1['diff'].astype(int)\n",
    "df1 = df1.loc[df1['diff'] > 0]\n",
    "df5 = df1.copy()\n",
    "df5['diff'] = df5['diff'] / 60    # from seconds to minutes\n",
    "\n",
    "# === check size\n",
    "# check = pd.DataFrame(data=df1)\n",
    "# col = check.shape[1]\n",
    "# row = check.shape[0]\n",
    "\n",
    "# print('cleaned diff: %d' % row)\n",
    "# print('cleaned diff: %d' % col)\n",
    "print(df1.head())\n",
    "print(df1.dtypes)\n"
   ]
  },
  {
   "cell_type": "markdown",
   "metadata": {},
   "source": [
    "## Weather Data"
   ]
  },
  {
   "cell_type": "code",
   "execution_count": null,
   "metadata": {},
   "outputs": [],
   "source": [
    "# === input folder\n",
    "path = r'./weather/*.csv'\n",
    "# === import csv as dataframe\n",
    "new_cols = ['weather']\n",
    "we = pd.read_csv('./weather/agrometeo-data.csv', encoding='Latin-1', header=None, names=new_cols)\n",
    "wet1 = pd.DataFrame(data=we)\n",
    "# === clean-up\n",
    "wet = wet1.iloc[3:]\n",
    "wet.loc[:, 'time'] = wet.weather.str.split(';').str.get(0)\n",
    "wet.loc[:, 'temp'] = wet.weather.str.split(';').str.get(1)\n",
    "wet.loc[:, 'rain'] = wet.weather.str.split(';').str.get(2)\n",
    "wet.drop(wet.columns[[0]], axis=1, inplace=True)\n",
    "wet.loc[:, 'time'] = pd.to_datetime(wet.loc[:, 'time'])\n",
    "wet.loc[:, 'rain'] = wet.loc[:, 'rain'].apply(pd.to_numeric, errors='coerce')\n",
    "wet = wet.dropna(how='any')\n",
    "\n",
    "# === check size\n",
    "q = wet.shape[1]\n",
    "o = wet.shape[0]\n",
    "print('weather data rows: %d' % o)\n",
    "print('weather data columns: %d' % q)\n",
    "print(wet.head(3))\n",
    "print(wet.dtypes)\n"
   ]
  },
  {
   "cell_type": "markdown",
   "metadata": {},
   "source": [
    "## Matching Rain and Time Difference"
   ]
  },
  {
   "cell_type": "code",
   "execution_count": null,
   "metadata": {},
   "outputs": [],
   "source": [
    "# === left merge on both time col which are in datetime format\n",
    "merge = df5.merge(wet, left_on='time', right_on='time', how='left')\n",
    "\n",
    "# === check size                         \n",
    "print(merge.head(3))\n",
    "print(merge.dtypes)\n"
   ]
  },
  {
   "cell_type": "markdown",
   "metadata": {},
   "source": [
    "## Correlation"
   ]
  },
  {
   "cell_type": "code",
   "execution_count": null,
   "metadata": {},
   "outputs": [],
   "source": [
    "from mpl_toolkits.mplot3d import Axes3D\n",
    "\n",
    "style.use(\"ggplot\")\n",
    "\n",
    "# === output folder\n",
    "newpath = r'./output/'\n",
    "if os.path.exists(newpath):\n",
    "    shutil.rmtree(newpath, ignore_errors=True)\n",
    "os.makedirs(newpath)\n",
    "\n",
    "month = merge.copy()\n",
    "day = merge.copy()\n",
    "hour = merge.copy()\n",
    "\n",
    "month['time'] = month.loc[:, 'time'].apply(lambda x: x.month)\n",
    "day['time'] = day.loc[:, 'time'].apply(lambda x: x.day)\n",
    "hour['time'] = hour.loc[:, 'time'].apply(lambda x: x.hour)\n",
    "\n",
    "# === csv to check output data\n",
    "# merge.to_csv('./output/merge.csv', header=False, index=False)\n",
    "# wet.to_csv('./output/wet.csv', header=False, index=False)\n",
    "# df1.to_csv('./output/df1.csv', header=False, index=False)\n",
    "\n",
    "# === frequency histogramm\n",
    "plt.hist(merge.loc[:, 'diff'])\n",
    "plt.title(\"delay frequency\")\n",
    "plt.xlabel(\"delay[minutes]\")\n",
    "plt.ylabel(\"frequency\")\n",
    "plt.savefig('./output/2Dfrequency.png', format='png', dpi=800)\n",
    "plt.show()\n",
    "\n",
    "# === 2D monthly distribution of delays\n",
    "x = month.loc[:, 'time']\n",
    "y = month.loc[:, 'diff']\n",
    "plt.scatter(x, y)\n",
    "plt.title(\"monthly distribution\")\n",
    "plt.xlabel(\"months\")\n",
    "plt.ylabel(\"delay[minutes]\")\n",
    "plt.savefig('./output/2Dmonthly.png', format='png', dpi=800)\n",
    "plt.show()\n",
    "\n",
    "# === 2D daily distribution of delays\n",
    "x = day.loc[:, 'time']\n",
    "y = day.loc[:, 'diff']\n",
    "plt.scatter(x, y)\n",
    "plt.title(\"daily distribution\")\n",
    "plt.xlabel(\"days\")\n",
    "plt.ylabel(\"delay[minutes]\")\n",
    "plt.savefig('./output/2Ddaily.png', format='png', dpi=800)\n",
    "plt.show()\n",
    "\n",
    "# === 2D hourly distribution of delays\n",
    "x = hour.loc[:, 'time']\n",
    "y = hour.loc[:, 'diff']\n",
    "plt.scatter(x, y)\n",
    "plt.title(\"hourly distribution\")\n",
    "plt.xlabel(\"hours\")\n",
    "plt.ylabel(\"delay[minutes]\")\n",
    "plt.savefig('./output/2Dhourly.png', format='png', dpi=800)\n",
    "plt.show()\n",
    "\n",
    "# === 2D dependency on rain\n",
    "x = merge.loc[:, 'rain']\n",
    "y = merge.loc[:, 'diff']\n",
    "plt.scatter(x, y)\n",
    "plt.title(\"correlation\")\n",
    "plt.xlabel(\"rain[mm/m2]\")\n",
    "plt.ylabel(\"delay[minutes]\")\n",
    "plt.savefig('./output/2Drain-delay.png', format='png', dpi=800)\n",
    "plt.show()\n",
    "\n",
    "# === 3D Figure rain, time, delay\n",
    "x = hour.loc[:, 'time']\n",
    "y = hour.loc[:, 'rain']\n",
    "z = hour.loc[:, 'diff']\n",
    "fig = plt.figure()\n",
    "ax = Axes3D(fig)\n",
    "ax.scatter(x, y, z)\n",
    "plt.title(\"Correlation\")\n",
    "ax.set_xlabel('hours')\n",
    "ax.set_ylabel('rain [mm/m2]')\n",
    "ax.set_zlabel('delay[minutes]')\n",
    "plt.savefig('./output/3DcorrelationHourly.png', format='png', dpi=800)\n",
    "plt.show()\n",
    "\n",
    "# === other statistics on data\n",
    "\n",
    "# print(merge.loc[:,'rain'].describe())\n",
    "# print(merge.loc[:,'diff'].describe())\n",
    "\n",
    "slope, intercept, r_value, p_value, std_err = stats.linregress(merge.loc[:, 'rain'], merge.loc[:, 'diff'])\n",
    "print(\"r-squared value between rain and delay:\", r_value ** 2)\n"
   ]
  },
  {
   "cell_type": "markdown",
   "metadata": {},
   "source": [
    "## Prediction"
   ]
  },
  {
   "cell_type": "code",
   "execution_count": null,
   "metadata": {},
   "outputs": [],
   "source": [
    "from sklearn.svm import SVC\n",
    "\n",
    "\n",
    "X = merge.loc[:, 'rain']\n",
    "y = merge.loc[:, 'diff']\n",
    "\n",
    "clf = SVC()\n",
    "clf.fit(X, y)\n",
    "SVC(C=1.0, cache_size=200, class_weight=None, coef0=0.0,\n",
    "    decision_function_shape='ovr', degree=3, gamma='auto', kernel='rbf',\n",
    "    max_iter=-1, probability=False, random_state=None, shrinking=True,\n",
    "    tol=0.001, verbose=False)\n",
    "pred = clf.predict(merge.loc[:, ['rain']])\n",
    "plt.scatter(merge.loc[:, ['rain']], pred)\n",
    "plt.ylabel('predicted delay [s]')\n",
    "plt.xlabel('precipitation [mm/h]')\n",
    "plt.savefig('./output/prediction.png', format='png', dpi=800)\n",
    "plt.show()\n"
   ]
  },
  {
   "cell_type": "code",
   "execution_count": null,
   "metadata": {},
   "outputs": [],
   "source": []
  }
 ],
 "metadata": {
  "kernelspec": {
   "display_name": "Python 3",
   "language": "python",
   "name": "python3"
  },
  "language_info": {
   "codemirror_mode": {
    "name": "ipython",
    "version": 3
   },
   "file_extension": ".py",
   "mimetype": "text/x-python",
   "name": "python",
   "nbconvert_exporter": "python",
   "pygments_lexer": "ipython3",
   "version": "3.6.4"
  }
 },
 "nbformat": 4,
 "nbformat_minor": 2
}
